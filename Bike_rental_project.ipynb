{
 "cells": [
  {
   "cell_type": "code",
   "execution_count": 2,
   "metadata": {
    "collapsed": true
   },
   "outputs": [],
   "source": [
    "import pandas as pd"
   ]
  },
  {
   "cell_type": "code",
   "execution_count": 4,
   "metadata": {
    "collapsed": true
   },
   "outputs": [],
   "source": [
    "bike_rentals = pd.read_csv('bike_rental_hour.csv')"
   ]
  },
  {
   "cell_type": "code",
   "execution_count": 6,
   "metadata": {
    "collapsed": false
   },
   "outputs": [
    {
     "name": "stdout",
     "output_type": "stream",
     "text": [
      "   instant      dteday  season  yr  mnth  hr  holiday  weekday  workingday  \\\n",
      "0        1  2011-01-01       1   0     1   0        0        6           0   \n",
      "1        2  2011-01-01       1   0     1   1        0        6           0   \n",
      "2        3  2011-01-01       1   0     1   2        0        6           0   \n",
      "3        4  2011-01-01       1   0     1   3        0        6           0   \n",
      "4        5  2011-01-01       1   0     1   4        0        6           0   \n",
      "\n",
      "   weathersit  temp   atemp   hum  windspeed  casual  registered  cnt  \n",
      "0           1  0.24  0.2879  0.81        0.0       3          13   16  \n",
      "1           1  0.22  0.2727  0.80        0.0       8          32   40  \n",
      "2           1  0.22  0.2727  0.80        0.0       5          27   32  \n",
      "3           1  0.24  0.2879  0.75        0.0       3          10   13  \n",
      "4           1  0.24  0.2879  0.75        0.0       0           1    1  \n"
     ]
    }
   ],
   "source": [
    "print(bike_rentals.head())"
   ]
  },
  {
   "cell_type": "code",
   "execution_count": 8,
   "metadata": {
    "collapsed": false
   },
   "outputs": [
    {
     "data": {
      "text/plain": [
       "<matplotlib.axes._subplots.AxesSubplot at 0x7f6786ab4cf8>"
      ]
     },
     "execution_count": 8,
     "metadata": {},
     "output_type": "execute_result"
    },
    {
     "data": {
      "image/png": "[encoded data removed]",
      "text/plain": [
       "<matplotlib.figure.Figure at 0x7f67d05ad4a8>"
      ]
     },
     "metadata": {},
     "output_type": "display_data"
    }
   ],
   "source": [
    "import matplotlib.pyplot as plt\n",
    "%matplotlib inline\n",
    "bike_rentals['cnt'].plot.hist()"
   ]
  },
  {
   "cell_type": "code",
   "execution_count": 49,
   "metadata": {
    "collapsed": false
   },
   "outputs": [
    {
     "name": "stdout",
     "output_type": "stream",
     "text": [
      "             instant    season        yr      mnth        hr   holiday  \\\n",
      "instant     1.000000  0.404046  0.866014  0.489164 -0.004775  0.014723   \n",
      "season      0.404046  1.000000 -0.010742  0.830386 -0.006117 -0.009585   \n",
      "yr          0.866014 -0.010742  1.000000 -0.010473 -0.003867  0.006692   \n",
      "mnth        0.489164  0.830386 -0.010473  1.000000 -0.005772  0.018430   \n",
      "hr         -0.004775 -0.006117 -0.003867 -0.005772  1.000000  0.000479   \n",
      "holiday     0.014723 -0.009585  0.006692  0.018430  0.000479  1.000000   \n",
      "weekday     0.001357 -0.002335 -0.004485  0.010400 -0.003498 -0.102088   \n",
      "workingday -0.003416  0.013743 -0.002196 -0.003477  0.002285 -0.252471   \n",
      "weathersit -0.014198 -0.014524 -0.019157  0.005400 -0.020203 -0.017036   \n",
      "temp        0.136178  0.312025  0.040913  0.201691  0.137603 -0.027340   \n",
      "atemp       0.137615  0.319380  0.039222  0.208096  0.133750 -0.030973   \n",
      "hum         0.009577  0.150625 -0.083546  0.164411 -0.276498 -0.010588   \n",
      "windspeed  -0.074505 -0.149773 -0.008740 -0.135386  0.137252  0.003988   \n",
      "casual      0.158295  0.120206  0.142779  0.068457  0.301202  0.031564   \n",
      "registered  0.282046  0.174226  0.253684  0.122273  0.374141 -0.047345   \n",
      "cnt         0.278379  0.178056  0.250495  0.120638  0.394071 -0.030927   \n",
      "time_label  0.006705  0.006617  0.004755  0.005786 -0.187486 -0.000702   \n",
      "\n",
      "             weekday  workingday  weathersit      temp     atemp       hum  \\\n",
      "instant     0.001357   -0.003416   -0.014198  0.136178  0.137615  0.009577   \n",
      "season     -0.002335    0.013743   -0.014524  0.312025  0.319380  0.150625   \n",
      "yr         -0.004485   -0.002196   -0.019157  0.040913  0.039222 -0.083546   \n",
      "mnth        0.010400   -0.003477    0.005400  0.201691  0.208096  0.164411   \n",
      "hr         -0.003498    0.002285   -0.020203  0.137603  0.133750 -0.276498   \n",
      "holiday    -0.102088   -0.252471   -0.017036 -0.027340 -0.030973 -0.010588   \n",
      "weekday     1.000000    0.035955    0.003311 -0.001795 -0.008821 -0.037158   \n",
      "workingday  0.035955    1.000000    0.044672  0.055390  0.054667  0.015688   \n",
      "weathersit  0.003311    0.044672    1.000000 -0.102640 -0.105563  0.418130   \n",
      "temp       -0.001795    0.055390   -0.102640  1.000000  0.987672 -0.069881   \n",
      "atemp      -0.008821    0.054667   -0.105563  0.987672  1.000000 -0.051918   \n",
      "hum        -0.037158    0.015688    0.418130 -0.069881 -0.051918  1.000000   \n",
      "windspeed   0.011502   -0.011830    0.026226 -0.023125 -0.062336 -0.290105   \n",
      "casual      0.032721   -0.300942   -0.152628  0.459616  0.454080 -0.347028   \n",
      "registered  0.021578    0.134326   -0.120966  0.335361  0.332559 -0.273933   \n",
      "cnt         0.026900    0.030284   -0.142426  0.404772  0.400929 -0.322911   \n",
      "time_label  0.002173   -0.000897   -0.035784 -0.061551 -0.057494  0.144593   \n",
      "\n",
      "            windspeed    casual  registered       cnt  time_label  \n",
      "instant     -0.074505  0.158295    0.282046  0.278379    0.006705  \n",
      "season      -0.149773  0.120206    0.174226  0.178056    0.006617  \n",
      "yr          -0.008740  0.142779    0.253684  0.250495    0.004755  \n",
      "mnth        -0.135386  0.068457    0.122273  0.120638    0.005786  \n",
      "hr           0.137252  0.301202    0.374141  0.394071   -0.187486  \n",
      "holiday      0.003988  0.031564   -0.047345 -0.030927   -0.000702  \n",
      "weekday      0.011502  0.032721    0.021578  0.026900    0.002173  \n",
      "workingday  -0.011830 -0.300942    0.134326  0.030284   -0.000897  \n",
      "weathersit   0.026226 -0.152628   -0.120966 -0.142426   -0.035784  \n",
      "temp        -0.023125  0.459616    0.335361  0.404772   -0.061551  \n",
      "atemp       -0.062336  0.454080    0.332559  0.400929   -0.057494  \n",
      "hum         -0.290105 -0.347028   -0.273933 -0.322911    0.144593  \n",
      "windspeed    1.000000  0.090287    0.082321  0.093234   -0.109462  \n",
      "casual       0.090287  1.000000    0.506618  0.694564   -0.250076  \n",
      "registered   0.082321  0.506618    1.000000  0.972151   -0.371916  \n",
      "cnt          0.093234  0.694564    0.972151  1.000000   -0.378318  \n",
      "time_label  -0.109462 -0.250076   -0.371916 -0.378318    1.000000  \n"
     ]
    }
   ],
   "source": [
    "bike_rentals_corr = bike_rentals.corr()\n",
    "print(bike_rentals_corr)"
   ]
  },
  {
   "cell_type": "code",
   "execution_count": 12,
   "metadata": {
    "collapsed": false
   },
   "outputs": [
    {
     "name": "stdout",
     "output_type": "stream",
     "text": [
      "0    4\n",
      "1    4\n",
      "2    4\n",
      "3    4\n",
      "4    4\n",
      "Name: time_label, dtype: int64\n"
     ]
    }
   ],
   "source": [
    "def assign_label(nHour):\n",
    "    retval = 0\n",
    "    if nHour>=6 and nHour < 12:\n",
    "        retval = 1\n",
    "    elif nHour >= 12 and nHour <18:\n",
    "        retval = 2\n",
    "    elif nHour >= 18 and nHour < 24:\n",
    "        retval = 3\n",
    "    else:\n",
    "        retval = 4\n",
    "    return retval\n",
    "\n",
    "bike_rentals['time_label'] = bike_rentals['hr'].apply(assign_label)\n",
    "\n",
    "print(bike_rentals['time_label'].head())"
   ]
  },
  {
   "cell_type": "code",
   "execution_count": 13,
   "metadata": {
    "collapsed": true
   },
   "outputs": [],
   "source": [
    "from sklearn.metrics import mean_squared_error"
   ]
  },
  {
   "cell_type": "code",
   "execution_count": 14,
   "metadata": {
    "collapsed": true
   },
   "outputs": [],
   "source": [
    "import numpy as np"
   ]
  },
  {
   "cell_type": "code",
   "execution_count": 15,
   "metadata": {
    "collapsed": true
   },
   "outputs": [],
   "source": [
    "train = bike_rentals.sample(frac=0.8, random_state=1)"
   ]
  },
  {
   "cell_type": "code",
   "execution_count": 17,
   "metadata": {
    "collapsed": false
   },
   "outputs": [
    {
     "name": "stdout",
     "output_type": "stream",
     "text": [
      "13903\n",
      "3476\n",
      "17379\n"
     ]
    }
   ],
   "source": [
    "is_in_train = bike_rentals.index.isin(train.index)\n",
    "test = bike_rentals.loc[~is_in_train]\n",
    "\n",
    "print(train.shape[0])\n",
    "print(test.shape[0])\n",
    "print(bike_rentals.shape[0])"
   ]
  },
  {
   "cell_type": "code",
   "execution_count": 68,
   "metadata": {
    "collapsed": true
   },
   "outputs": [],
   "source": [
    "def sel_col_with_corr_bar(nCorr):\n",
    "    cols = list()\n",
    "    \"\"\"\n",
    "    Dropping casual, registered columns since they are the ones which adds up to cnt col.\n",
    "    \"\"\"\n",
    "    columns = bike_rentals.columns.drop(['cnt', 'casual','dteday','registered'])\n",
    "    for col in columns:\n",
    "        if abs(bike_rentals_corr['cnt'][col]) >= nCorr:\n",
    "            cols.append(col)\n",
    "    return cols"
   ]
  },
  {
   "cell_type": "code",
   "execution_count": 77,
   "metadata": {
    "collapsed": false
   },
   "outputs": [
    {
     "name": "stdout",
     "output_type": "stream",
     "text": [
      "['instant', 'season', 'yr', 'mnth', 'hr', 'weathersit', 'atemp', 'hum', 'time_label']\n"
     ]
    }
   ],
   "source": [
    "#columns = columns.drop(['mnth','holiday','weekday','workingday','temp','windspeed'])\n",
    "columns = sel_col_with_corr_bar(0.10)\n",
    "\n",
    "if 'temp' in columns and 'atemp' in columns:\n",
    "    columns.remove('temp')\n",
    "\n",
    "print(columns)"
   ]
  },
  {
   "cell_type": "code",
   "execution_count": 72,
   "metadata": {
    "collapsed": false
   },
   "outputs": [
    {
     "name": "stdout",
     "output_type": "stream",
     "text": [
      "130.71052076745076\n"
     ]
    }
   ],
   "source": [
    "from sklearn.linear_model import LinearRegression\n",
    "lrm = LinearRegression()\n",
    "lrm.fit(train[columns], train['cnt'])\n",
    "predictions = lrm.predict(test[columns])\n",
    "lrm_rmse = np.sqrt(mean_squared_error(test['cnt'], predictions))\n",
    "\n",
    "print(lrm_rmse)\n"
   ]
  },
  {
   "cell_type": "code",
   "execution_count": 71,
   "metadata": {
    "collapsed": false
   },
   "outputs": [
    {
     "name": "stdout",
     "output_type": "stream",
     "text": [
      "99.7597958185334\n"
     ]
    }
   ],
   "source": [
    "from sklearn.tree import DecisionTreeRegressor\n",
    "dtr = DecisionTreeRegressor(splitter='random', \n",
    "                            max_features='auto', \n",
    "                            random_state=1, \n",
    "                            min_samples_leaf=15,\n",
    "                           )\n",
    "dtr.fit(train[columns], train['cnt'])\n",
    "predictions = dtr.predict(test[columns])\n",
    "dtr_rmse = np.sqrt(mean_squared_error(test['cnt'], predictions))\n",
    "\n",
    "print(dtr_rmse)"
   ]
  },
  {
   "cell_type": "code",
   "execution_count": 78,
   "metadata": {
    "collapsed": false
   },
   "outputs": [
    {
     "name": "stdout",
     "output_type": "stream",
     "text": [
      "83.69568405044454\n"
     ]
    }
   ],
   "source": [
    "from sklearn.ensemble import RandomForestRegressor\n",
    "\n",
    "rfr = RandomForestRegressor(n_estimators = 50,\n",
    "                           min_samples_leaf=10,\n",
    "                           max_features='auto',\n",
    "                           random_state=1)\n",
    "rfr.fit(train[columns],train['cnt'])\n",
    "predictions = rfr.predict(test[columns])\n",
    "rfr_rmse = np.sqrt(mean_squared_error(test['cnt'], predictions))\n",
    "\n",
    "print(rfr_rmse)"
   ]
  }
 ],
 "metadata": {
  "kernelspec": {
   "display_name": "Python 3",
   "language": "python",
   "name": "python3"
  },
  "language_info": {
   "codemirror_mode": {
    "name": "ipython",
    "version": 3
   },
   "file_extension": ".py",
   "mimetype": "text/x-python",
   "name": "python",
   "nbconvert_exporter": "python",
   "pygments_lexer": "ipython3",
   "version": "3.4.3"
  }
 },
 "nbformat": 4,
 "nbformat_minor": 0
}
